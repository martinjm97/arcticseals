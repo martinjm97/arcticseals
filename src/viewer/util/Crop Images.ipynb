{
 "cells": [
  {
   "cell_type": "markdown",
   "metadata": {},
   "source": [
    "## Crop those bounding rect"
   ]
  },
  {
   "cell_type": "code",
   "execution_count": 1,
   "metadata": {},
   "outputs": [],
   "source": [
    "import os\n",
    "import pathlib\n",
    "import json\n",
    "from PIL import Image"
   ]
  },
  {
   "cell_type": "code",
   "execution_count": 2,
   "metadata": {},
   "outputs": [],
   "source": [
    "# Read training.json to artic\n",
    "with open('training.json') as json_data:\n",
    "    data = json.load(json_data)\n",
    "    artic = data['Artic']\n",
    "\n",
    "#define the path\n",
    "inputDir = pathlib.Path('F:\\\\')\n",
    "outputDir = pathlib.Path('E:\\\\noaa\\\\crop-img')"
   ]
  },
  {
   "cell_type": "code",
   "execution_count": 6,
   "metadata": {},
   "outputs": [],
   "source": [
    "for i in range(0,len(artic)):\n",
    "    currentFullFilename = artic[i]['filt_color']\n",
    "    inputFile = os.path.join(inputDir, currentFullFilename)\n",
    "    currentFilename = os.path.splitext(currentFullFilename)[0] + \"_HOTSPOT_\" + artic[i]['hotspot_id'] + \".JPG\"\n",
    "    outputFile = os.path.join(outputDir, currentFilename)\n",
    "    img = Image.open(inputFile)\n",
    "\n",
    "    x1 = int(artic[i]['thumb_left'])\n",
    "    y1 = int(artic[i]['thumb_top'])\n",
    "    x2 = int(artic[i]['thumb_right'])\n",
    "    y2 = int(artic[i]['thumb_bottom'])\n",
    "    area=(x1,y1,x2,y2)\n",
    "    crop_img = img.crop(area)\n",
    "    crop_img.save(outputFile)\n"
   ]
  },
  {
   "cell_type": "code",
   "execution_count": null,
   "metadata": {},
   "outputs": [],
   "source": []
  }
 ],
 "metadata": {
  "kernelspec": {
   "display_name": "Python 3",
   "language": "python",
   "name": "python3"
  },
  "language_info": {
   "codemirror_mode": {
    "name": "ipython",
    "version": 3
   },
   "file_extension": ".py",
   "mimetype": "text/x-python",
   "name": "python",
   "nbconvert_exporter": "python",
   "pygments_lexer": "ipython3",
   "version": "3.5.5"
  }
 },
 "nbformat": 4,
 "nbformat_minor": 2
}
