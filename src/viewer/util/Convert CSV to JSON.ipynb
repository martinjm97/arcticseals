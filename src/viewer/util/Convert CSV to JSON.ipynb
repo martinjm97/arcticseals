{
 "cells": [
  {
   "cell_type": "markdown",
   "metadata": {},
   "source": [
    "## Convert CSV to JSON"
   ]
  },
  {
   "cell_type": "code",
   "execution_count": 1,
   "metadata": {},
   "outputs": [],
   "source": [
    "import csv\n",
    "import json\n",
    "from collections import OrderedDict"
   ]
  },
  {
   "cell_type": "code",
   "execution_count": 2,
   "metadata": {},
   "outputs": [],
   "source": [
    "fieldnames = (\"hotspot_id\",\"timestamp\",\"filt_thermal16\",\"filt_thermal8\",\"filt_color\",\"x_pos\",\"y_pos\",\"thumb_left\",\"thumb_top\",\"thumb_right\",\"thumb_bottom\",\"hotspot_type\",\"species_id\")\n",
    "csvfilename = 'training.csv'\n",
    "jsonfilename = 'training.json'\n",
    "entires = []\n",
    "\n",
    "with open(csvfilename,'r') as csvfile:\n",
    "    reader = csv.DictReader( csvfile, fieldnames)\n",
    "    next(reader, None)\n",
    "    for row in reader:\n",
    "        entry = OrderedDict()\n",
    "        for field in fieldnames:\n",
    "            entry[field] = row[field]\n",
    "        entires.append(entry)\n",
    "\n",
    "output = {\n",
    "    \"Artic\": entires\n",
    "}\n",
    "\n",
    "with open(jsonfilename, 'w') as jsonfile:\n",
    "    json.dump(output, jsonfile, indent=4)\n",
    "    jsonfile.write('\\n')"
   ]
  },
  {
   "cell_type": "code",
   "execution_count": null,
   "metadata": {},
   "outputs": [],
   "source": []
  }
 ],
 "metadata": {
  "kernelspec": {
   "display_name": "Python 3",
   "language": "python",
   "name": "python3"
  },
  "language_info": {
   "codemirror_mode": {
    "name": "ipython",
    "version": 3
   },
   "file_extension": ".py",
   "mimetype": "text/x-python",
   "name": "python",
   "nbconvert_exporter": "python",
   "pygments_lexer": "ipython3",
   "version": "3.5.5"
  }
 },
 "nbformat": 4,
 "nbformat_minor": 2
}
